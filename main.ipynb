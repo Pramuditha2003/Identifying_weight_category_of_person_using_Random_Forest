{
 "cells": [
  {
   "cell_type": "code",
   "execution_count": 1,
   "metadata": {},
   "outputs": [
    {
     "name": "stderr",
     "output_type": "stream",
     "text": [
      "<frozen importlib._bootstrap>:228: RuntimeWarning: scipy._lib.messagestream.MessageStream size changed, may indicate binary incompatibility. Expected 56 from C header, got 64 from PyObject\n"
     ]
    }
   ],
   "source": [
    "import pandas as pd\n",
    "import matplotlib.pyplot as plt\n",
    "import numpy as np\n",
    "import seaborn as sns\n",
    "%matplotlib inline\n",
    "import warnings\n",
    "warnings.filterwarnings(\"ignore\")\n",
    "from sklearn.metrics import classification_report, confusion_matrix, accuracy_score, roc_curve, auc, roc_auc_score"
   ]
  },
  {
   "cell_type": "code",
   "execution_count": 2,
   "metadata": {},
   "outputs": [
    {
     "data": {
      "text/html": [
       "<div>\n",
       "<style scoped>\n",
       "    .dataframe tbody tr th:only-of-type {\n",
       "        vertical-align: middle;\n",
       "    }\n",
       "\n",
       "    .dataframe tbody tr th {\n",
       "        vertical-align: top;\n",
       "    }\n",
       "\n",
       "    .dataframe thead th {\n",
       "        text-align: right;\n",
       "    }\n",
       "</style>\n",
       "<table border=\"1\" class=\"dataframe\">\n",
       "  <thead>\n",
       "    <tr style=\"text-align: right;\">\n",
       "      <th></th>\n",
       "      <th>Gender</th>\n",
       "      <th>Height</th>\n",
       "      <th>Weight</th>\n",
       "      <th>Index</th>\n",
       "    </tr>\n",
       "  </thead>\n",
       "  <tbody>\n",
       "    <tr>\n",
       "      <th>0</th>\n",
       "      <td>Male</td>\n",
       "      <td>174</td>\n",
       "      <td>96</td>\n",
       "      <td>4</td>\n",
       "    </tr>\n",
       "    <tr>\n",
       "      <th>1</th>\n",
       "      <td>Male</td>\n",
       "      <td>189</td>\n",
       "      <td>87</td>\n",
       "      <td>2</td>\n",
       "    </tr>\n",
       "    <tr>\n",
       "      <th>2</th>\n",
       "      <td>Female</td>\n",
       "      <td>185</td>\n",
       "      <td>110</td>\n",
       "      <td>4</td>\n",
       "    </tr>\n",
       "    <tr>\n",
       "      <th>3</th>\n",
       "      <td>Female</td>\n",
       "      <td>195</td>\n",
       "      <td>104</td>\n",
       "      <td>3</td>\n",
       "    </tr>\n",
       "    <tr>\n",
       "      <th>4</th>\n",
       "      <td>Male</td>\n",
       "      <td>149</td>\n",
       "      <td>61</td>\n",
       "      <td>3</td>\n",
       "    </tr>\n",
       "  </tbody>\n",
       "</table>\n",
       "</div>"
      ],
      "text/plain": [
       "   Gender  Height  Weight  Index\n",
       "0    Male     174      96      4\n",
       "1    Male     189      87      2\n",
       "2  Female     185     110      4\n",
       "3  Female     195     104      3\n",
       "4    Male     149      61      3"
      ]
     },
     "execution_count": 2,
     "metadata": {},
     "output_type": "execute_result"
    }
   ],
   "source": [
    "data = pd.read_csv('dataset.csv')\n",
    "data.head()"
   ]
  },
  {
   "cell_type": "code",
   "execution_count": 3,
   "metadata": {},
   "outputs": [
    {
     "data": {
      "text/html": [
       "<div>\n",
       "<style scoped>\n",
       "    .dataframe tbody tr th:only-of-type {\n",
       "        vertical-align: middle;\n",
       "    }\n",
       "\n",
       "    .dataframe tbody tr th {\n",
       "        vertical-align: top;\n",
       "    }\n",
       "\n",
       "    .dataframe thead th {\n",
       "        text-align: right;\n",
       "    }\n",
       "</style>\n",
       "<table border=\"1\" class=\"dataframe\">\n",
       "  <thead>\n",
       "    <tr style=\"text-align: right;\">\n",
       "      <th></th>\n",
       "      <th>Height</th>\n",
       "      <th>Weight</th>\n",
       "      <th>Index</th>\n",
       "    </tr>\n",
       "  </thead>\n",
       "  <tbody>\n",
       "    <tr>\n",
       "      <th>count</th>\n",
       "      <td>500.000000</td>\n",
       "      <td>500.000000</td>\n",
       "      <td>500.000000</td>\n",
       "    </tr>\n",
       "    <tr>\n",
       "      <th>mean</th>\n",
       "      <td>169.944000</td>\n",
       "      <td>106.000000</td>\n",
       "      <td>3.748000</td>\n",
       "    </tr>\n",
       "    <tr>\n",
       "      <th>std</th>\n",
       "      <td>16.375261</td>\n",
       "      <td>32.382607</td>\n",
       "      <td>1.355053</td>\n",
       "    </tr>\n",
       "    <tr>\n",
       "      <th>min</th>\n",
       "      <td>140.000000</td>\n",
       "      <td>50.000000</td>\n",
       "      <td>0.000000</td>\n",
       "    </tr>\n",
       "    <tr>\n",
       "      <th>25%</th>\n",
       "      <td>156.000000</td>\n",
       "      <td>80.000000</td>\n",
       "      <td>3.000000</td>\n",
       "    </tr>\n",
       "    <tr>\n",
       "      <th>50%</th>\n",
       "      <td>170.500000</td>\n",
       "      <td>106.000000</td>\n",
       "      <td>4.000000</td>\n",
       "    </tr>\n",
       "    <tr>\n",
       "      <th>75%</th>\n",
       "      <td>184.000000</td>\n",
       "      <td>136.000000</td>\n",
       "      <td>5.000000</td>\n",
       "    </tr>\n",
       "    <tr>\n",
       "      <th>max</th>\n",
       "      <td>199.000000</td>\n",
       "      <td>160.000000</td>\n",
       "      <td>5.000000</td>\n",
       "    </tr>\n",
       "  </tbody>\n",
       "</table>\n",
       "</div>"
      ],
      "text/plain": [
       "           Height      Weight       Index\n",
       "count  500.000000  500.000000  500.000000\n",
       "mean   169.944000  106.000000    3.748000\n",
       "std     16.375261   32.382607    1.355053\n",
       "min    140.000000   50.000000    0.000000\n",
       "25%    156.000000   80.000000    3.000000\n",
       "50%    170.500000  106.000000    4.000000\n",
       "75%    184.000000  136.000000    5.000000\n",
       "max    199.000000  160.000000    5.000000"
      ]
     },
     "execution_count": 3,
     "metadata": {},
     "output_type": "execute_result"
    }
   ],
   "source": [
    "data.describe()"
   ]
  },
  {
   "cell_type": "code",
   "execution_count": 4,
   "metadata": {},
   "outputs": [],
   "source": [
    "def int_str(ind):\n",
    "    if ind==0:\n",
    "        return 'Extremely Weak'\n",
    "    elif ind==1:\n",
    "        return 'Weak'\n",
    "    elif ind==2:\n",
    "        return 'Normal'\n",
    "    elif ind==3:\n",
    "        return 'OverWeight'\n",
    "    elif ind==4:\n",
    "        return 'Obesity'\n",
    "    elif ind==5:\n",
    "        return 'Extremely Obese'"
   ]
  },
  {
   "cell_type": "code",
   "execution_count": 5,
   "metadata": {},
   "outputs": [],
   "source": [
    "data['Index'] = data['Index'].apply(int_str)"
   ]
  },
  {
   "cell_type": "code",
   "execution_count": 6,
   "metadata": {},
   "outputs": [
    {
     "data": {
      "text/html": [
       "<div>\n",
       "<style scoped>\n",
       "    .dataframe tbody tr th:only-of-type {\n",
       "        vertical-align: middle;\n",
       "    }\n",
       "\n",
       "    .dataframe tbody tr th {\n",
       "        vertical-align: top;\n",
       "    }\n",
       "\n",
       "    .dataframe thead th {\n",
       "        text-align: right;\n",
       "    }\n",
       "</style>\n",
       "<table border=\"1\" class=\"dataframe\">\n",
       "  <thead>\n",
       "    <tr style=\"text-align: right;\">\n",
       "      <th></th>\n",
       "      <th>Gender</th>\n",
       "      <th>Height</th>\n",
       "      <th>Weight</th>\n",
       "      <th>Index</th>\n",
       "    </tr>\n",
       "  </thead>\n",
       "  <tbody>\n",
       "    <tr>\n",
       "      <th>0</th>\n",
       "      <td>Male</td>\n",
       "      <td>174</td>\n",
       "      <td>96</td>\n",
       "      <td>Obesity</td>\n",
       "    </tr>\n",
       "    <tr>\n",
       "      <th>1</th>\n",
       "      <td>Male</td>\n",
       "      <td>189</td>\n",
       "      <td>87</td>\n",
       "      <td>Normal</td>\n",
       "    </tr>\n",
       "    <tr>\n",
       "      <th>2</th>\n",
       "      <td>Female</td>\n",
       "      <td>185</td>\n",
       "      <td>110</td>\n",
       "      <td>Obesity</td>\n",
       "    </tr>\n",
       "    <tr>\n",
       "      <th>3</th>\n",
       "      <td>Female</td>\n",
       "      <td>195</td>\n",
       "      <td>104</td>\n",
       "      <td>OverWeight</td>\n",
       "    </tr>\n",
       "    <tr>\n",
       "      <th>4</th>\n",
       "      <td>Male</td>\n",
       "      <td>149</td>\n",
       "      <td>61</td>\n",
       "      <td>OverWeight</td>\n",
       "    </tr>\n",
       "    <tr>\n",
       "      <th>...</th>\n",
       "      <td>...</td>\n",
       "      <td>...</td>\n",
       "      <td>...</td>\n",
       "      <td>...</td>\n",
       "    </tr>\n",
       "    <tr>\n",
       "      <th>495</th>\n",
       "      <td>Female</td>\n",
       "      <td>150</td>\n",
       "      <td>153</td>\n",
       "      <td>Extremely Obese</td>\n",
       "    </tr>\n",
       "    <tr>\n",
       "      <th>496</th>\n",
       "      <td>Female</td>\n",
       "      <td>184</td>\n",
       "      <td>121</td>\n",
       "      <td>Obesity</td>\n",
       "    </tr>\n",
       "    <tr>\n",
       "      <th>497</th>\n",
       "      <td>Female</td>\n",
       "      <td>141</td>\n",
       "      <td>136</td>\n",
       "      <td>Extremely Obese</td>\n",
       "    </tr>\n",
       "    <tr>\n",
       "      <th>498</th>\n",
       "      <td>Male</td>\n",
       "      <td>150</td>\n",
       "      <td>95</td>\n",
       "      <td>Extremely Obese</td>\n",
       "    </tr>\n",
       "    <tr>\n",
       "      <th>499</th>\n",
       "      <td>Male</td>\n",
       "      <td>173</td>\n",
       "      <td>131</td>\n",
       "      <td>Extremely Obese</td>\n",
       "    </tr>\n",
       "  </tbody>\n",
       "</table>\n",
       "<p>500 rows × 4 columns</p>\n",
       "</div>"
      ],
      "text/plain": [
       "     Gender  Height  Weight            Index\n",
       "0      Male     174      96          Obesity\n",
       "1      Male     189      87           Normal\n",
       "2    Female     185     110          Obesity\n",
       "3    Female     195     104       OverWeight\n",
       "4      Male     149      61       OverWeight\n",
       "..      ...     ...     ...              ...\n",
       "495  Female     150     153  Extremely Obese\n",
       "496  Female     184     121          Obesity\n",
       "497  Female     141     136  Extremely Obese\n",
       "498    Male     150      95  Extremely Obese\n",
       "499    Male     173     131  Extremely Obese\n",
       "\n",
       "[500 rows x 4 columns]"
      ]
     },
     "execution_count": 6,
     "metadata": {},
     "output_type": "execute_result"
    }
   ],
   "source": [
    "data"
   ]
  },
  {
   "cell_type": "code",
   "execution_count": 7,
   "metadata": {},
   "outputs": [
    {
     "data": {
      "text/plain": [
       "<seaborn.axisgrid.FacetGrid at 0x1f11f9b5610>"
      ]
     },
     "execution_count": 7,
     "metadata": {},
     "output_type": "execute_result"
    },
    {
     "data": {
      "image/png": "[encoded data removed]",
      "text/plain": [
       "<Figure size 625.125x504 with 1 Axes>"
      ]
     },
     "metadata": {
      "needs_background": "light"
     },
     "output_type": "display_data"
    }
   ],
   "source": [
    "sns.lmplot('Height','Weight',data,hue='Index',size=7,aspect=1,fit_reg=False)"
   ]
  },
  {
   "cell_type": "code",
   "execution_count": 8,
   "metadata": {},
   "outputs": [
    {
     "data": {
      "text/plain": [
       "Female    255\n",
       "Male      245\n",
       "Name: Gender, dtype: int64"
      ]
     },
     "execution_count": 8,
     "metadata": {},
     "output_type": "execute_result"
    }
   ],
   "source": [
    "people = data['Gender'].value_counts()\n",
    "people"
   ]
  },
  {
   "cell_type": "code",
   "execution_count": 9,
   "metadata": {},
   "outputs": [
    {
     "data": {
      "text/plain": [
       "Extremely Obese    198\n",
       "Obesity            130\n",
       "Normal              69\n",
       "OverWeight          68\n",
       "Weak                22\n",
       "Extremely Weak      13\n",
       "Name: Index, dtype: int64"
      ]
     },
     "execution_count": 9,
     "metadata": {},
     "output_type": "execute_result"
    }
   ],
   "source": [
    "categories = data['Index'].value_counts()\n",
    "categories"
   ]
  },
  {
   "cell_type": "code",
   "execution_count": 10,
   "metadata": {},
   "outputs": [
    {
     "data": {
      "text/plain": [
       "Extremely Obese    105\n",
       "Obesity             59\n",
       "OverWeight          32\n",
       "Normal              28\n",
       "Weak                15\n",
       "Extremely Weak       6\n",
       "Name: Index, dtype: int64"
      ]
     },
     "execution_count": 10,
     "metadata": {},
     "output_type": "execute_result"
    }
   ],
   "source": [
    "# STATS FOR MEN\n",
    "data[data['Gender']=='Male']['Index'].value_counts()"
   ]
  },
  {
   "cell_type": "code",
   "execution_count": 11,
   "metadata": {},
   "outputs": [
    {
     "data": {
      "text/plain": [
       "Extremely Obese    93\n",
       "Obesity            71\n",
       "Normal             41\n",
       "OverWeight         36\n",
       "Weak                7\n",
       "Extremely Weak      7\n",
       "Name: Index, dtype: int64"
      ]
     },
     "execution_count": 11,
     "metadata": {},
     "output_type": "execute_result"
    }
   ],
   "source": [
    "# STATS FOR WOMEN\n",
    "data[data['Gender']=='Female']['Index'].value_counts()"
   ]
  },
  {
   "cell_type": "code",
   "execution_count": 12,
   "metadata": {},
   "outputs": [
    {
     "data": {
      "text/html": [
       "<div>\n",
       "<style scoped>\n",
       "    .dataframe tbody tr th:only-of-type {\n",
       "        vertical-align: middle;\n",
       "    }\n",
       "\n",
       "    .dataframe tbody tr th {\n",
       "        vertical-align: top;\n",
       "    }\n",
       "\n",
       "    .dataframe thead th {\n",
       "        text-align: right;\n",
       "    }\n",
       "</style>\n",
       "<table border=\"1\" class=\"dataframe\">\n",
       "  <thead>\n",
       "    <tr style=\"text-align: right;\">\n",
       "      <th></th>\n",
       "      <th>Height</th>\n",
       "      <th>Weight</th>\n",
       "      <th>Index</th>\n",
       "      <th>Female</th>\n",
       "      <th>Male</th>\n",
       "    </tr>\n",
       "  </thead>\n",
       "  <tbody>\n",
       "    <tr>\n",
       "      <th>0</th>\n",
       "      <td>174</td>\n",
       "      <td>96</td>\n",
       "      <td>Obesity</td>\n",
       "      <td>0</td>\n",
       "      <td>1</td>\n",
       "    </tr>\n",
       "    <tr>\n",
       "      <th>1</th>\n",
       "      <td>189</td>\n",
       "      <td>87</td>\n",
       "      <td>Normal</td>\n",
       "      <td>0</td>\n",
       "      <td>1</td>\n",
       "    </tr>\n",
       "    <tr>\n",
       "      <th>2</th>\n",
       "      <td>185</td>\n",
       "      <td>110</td>\n",
       "      <td>Obesity</td>\n",
       "      <td>1</td>\n",
       "      <td>0</td>\n",
       "    </tr>\n",
       "    <tr>\n",
       "      <th>3</th>\n",
       "      <td>195</td>\n",
       "      <td>104</td>\n",
       "      <td>OverWeight</td>\n",
       "      <td>1</td>\n",
       "      <td>0</td>\n",
       "    </tr>\n",
       "    <tr>\n",
       "      <th>4</th>\n",
       "      <td>149</td>\n",
       "      <td>61</td>\n",
       "      <td>OverWeight</td>\n",
       "      <td>0</td>\n",
       "      <td>1</td>\n",
       "    </tr>\n",
       "  </tbody>\n",
       "</table>\n",
       "</div>"
      ],
      "text/plain": [
       "   Height  Weight       Index  Female  Male\n",
       "0     174      96     Obesity       0     1\n",
       "1     189      87      Normal       0     1\n",
       "2     185     110     Obesity       1     0\n",
       "3     195     104  OverWeight       1     0\n",
       "4     149      61  OverWeight       0     1"
      ]
     },
     "execution_count": 12,
     "metadata": {},
     "output_type": "execute_result"
    }
   ],
   "source": [
    "data2 = pd.get_dummies(data['Gender'])\n",
    "data.drop('Gender',axis=1,inplace=True)\n",
    "data = pd.concat([data,data2],axis=1)\n",
    "data.head()"
   ]
  },
  {
   "cell_type": "code",
   "execution_count": 13,
   "metadata": {
    "scrolled": true
   },
   "outputs": [],
   "source": [
    "y=data['Index']\n",
    "data =data.drop(['Index'],axis=1)"
   ]
  },
  {
   "cell_type": "code",
   "execution_count": 14,
   "metadata": {},
   "outputs": [
    {
     "data": {
      "text/html": [
       "<div>\n",
       "<style scoped>\n",
       "    .dataframe tbody tr th:only-of-type {\n",
       "        vertical-align: middle;\n",
       "    }\n",
       "\n",
       "    .dataframe tbody tr th {\n",
       "        vertical-align: top;\n",
       "    }\n",
       "\n",
       "    .dataframe thead th {\n",
       "        text-align: right;\n",
       "    }\n",
       "</style>\n",
       "<table border=\"1\" class=\"dataframe\">\n",
       "  <thead>\n",
       "    <tr style=\"text-align: right;\">\n",
       "      <th></th>\n",
       "      <th>Height</th>\n",
       "      <th>Weight</th>\n",
       "      <th>Female</th>\n",
       "      <th>Male</th>\n",
       "    </tr>\n",
       "  </thead>\n",
       "  <tbody>\n",
       "    <tr>\n",
       "      <th>0</th>\n",
       "      <td>174</td>\n",
       "      <td>96</td>\n",
       "      <td>0</td>\n",
       "      <td>1</td>\n",
       "    </tr>\n",
       "    <tr>\n",
       "      <th>1</th>\n",
       "      <td>189</td>\n",
       "      <td>87</td>\n",
       "      <td>0</td>\n",
       "      <td>1</td>\n",
       "    </tr>\n",
       "    <tr>\n",
       "      <th>2</th>\n",
       "      <td>185</td>\n",
       "      <td>110</td>\n",
       "      <td>1</td>\n",
       "      <td>0</td>\n",
       "    </tr>\n",
       "    <tr>\n",
       "      <th>3</th>\n",
       "      <td>195</td>\n",
       "      <td>104</td>\n",
       "      <td>1</td>\n",
       "      <td>0</td>\n",
       "    </tr>\n",
       "    <tr>\n",
       "      <th>4</th>\n",
       "      <td>149</td>\n",
       "      <td>61</td>\n",
       "      <td>0</td>\n",
       "      <td>1</td>\n",
       "    </tr>\n",
       "  </tbody>\n",
       "</table>\n",
       "</div>"
      ],
      "text/plain": [
       "   Height  Weight  Female  Male\n",
       "0     174      96       0     1\n",
       "1     189      87       0     1\n",
       "2     185     110       1     0\n",
       "3     195     104       1     0\n",
       "4     149      61       0     1"
      ]
     },
     "execution_count": 14,
     "metadata": {},
     "output_type": "execute_result"
    }
   ],
   "source": [
    "data.head()"
   ]
  },
  {
   "cell_type": "code",
   "execution_count": 15,
   "metadata": {},
   "outputs": [
    {
     "data": {
      "text/html": [
       "<div>\n",
       "<style scoped>\n",
       "    .dataframe tbody tr th:only-of-type {\n",
       "        vertical-align: middle;\n",
       "    }\n",
       "\n",
       "    .dataframe tbody tr th {\n",
       "        vertical-align: top;\n",
       "    }\n",
       "\n",
       "    .dataframe thead th {\n",
       "        text-align: right;\n",
       "    }\n",
       "</style>\n",
       "<table border=\"1\" class=\"dataframe\">\n",
       "  <thead>\n",
       "    <tr style=\"text-align: right;\">\n",
       "      <th></th>\n",
       "      <th>0</th>\n",
       "      <th>1</th>\n",
       "      <th>2</th>\n",
       "      <th>3</th>\n",
       "    </tr>\n",
       "  </thead>\n",
       "  <tbody>\n",
       "    <tr>\n",
       "      <th>0</th>\n",
       "      <td>0.247939</td>\n",
       "      <td>-0.309117</td>\n",
       "      <td>-1.020204</td>\n",
       "      <td>1.020204</td>\n",
       "    </tr>\n",
       "    <tr>\n",
       "      <th>1</th>\n",
       "      <td>1.164872</td>\n",
       "      <td>-0.587322</td>\n",
       "      <td>-1.020204</td>\n",
       "      <td>1.020204</td>\n",
       "    </tr>\n",
       "    <tr>\n",
       "      <th>2</th>\n",
       "      <td>0.920357</td>\n",
       "      <td>0.123647</td>\n",
       "      <td>0.980196</td>\n",
       "      <td>-0.980196</td>\n",
       "    </tr>\n",
       "    <tr>\n",
       "      <th>3</th>\n",
       "      <td>1.531645</td>\n",
       "      <td>-0.061823</td>\n",
       "      <td>0.980196</td>\n",
       "      <td>-0.980196</td>\n",
       "    </tr>\n",
       "    <tr>\n",
       "      <th>4</th>\n",
       "      <td>-1.280283</td>\n",
       "      <td>-1.391027</td>\n",
       "      <td>-1.020204</td>\n",
       "      <td>1.020204</td>\n",
       "    </tr>\n",
       "    <tr>\n",
       "      <th>...</th>\n",
       "      <td>...</td>\n",
       "      <td>...</td>\n",
       "      <td>...</td>\n",
       "      <td>...</td>\n",
       "    </tr>\n",
       "    <tr>\n",
       "      <th>495</th>\n",
       "      <td>-1.219155</td>\n",
       "      <td>1.452850</td>\n",
       "      <td>0.980196</td>\n",
       "      <td>-0.980196</td>\n",
       "    </tr>\n",
       "    <tr>\n",
       "      <th>496</th>\n",
       "      <td>0.859228</td>\n",
       "      <td>0.463676</td>\n",
       "      <td>0.980196</td>\n",
       "      <td>-0.980196</td>\n",
       "    </tr>\n",
       "    <tr>\n",
       "      <th>497</th>\n",
       "      <td>-1.769315</td>\n",
       "      <td>0.927351</td>\n",
       "      <td>0.980196</td>\n",
       "      <td>-0.980196</td>\n",
       "    </tr>\n",
       "    <tr>\n",
       "      <th>498</th>\n",
       "      <td>-1.219155</td>\n",
       "      <td>-0.340029</td>\n",
       "      <td>-1.020204</td>\n",
       "      <td>1.020204</td>\n",
       "    </tr>\n",
       "    <tr>\n",
       "      <th>499</th>\n",
       "      <td>0.186810</td>\n",
       "      <td>0.772793</td>\n",
       "      <td>-1.020204</td>\n",
       "      <td>1.020204</td>\n",
       "    </tr>\n",
       "  </tbody>\n",
       "</table>\n",
       "<p>500 rows × 4 columns</p>\n",
       "</div>"
      ],
      "text/plain": [
       "            0         1         2         3\n",
       "0    0.247939 -0.309117 -1.020204  1.020204\n",
       "1    1.164872 -0.587322 -1.020204  1.020204\n",
       "2    0.920357  0.123647  0.980196 -0.980196\n",
       "3    1.531645 -0.061823  0.980196 -0.980196\n",
       "4   -1.280283 -1.391027 -1.020204  1.020204\n",
       "..        ...       ...       ...       ...\n",
       "495 -1.219155  1.452850  0.980196 -0.980196\n",
       "496  0.859228  0.463676  0.980196 -0.980196\n",
       "497 -1.769315  0.927351  0.980196 -0.980196\n",
       "498 -1.219155 -0.340029 -1.020204  1.020204\n",
       "499  0.186810  0.772793 -1.020204  1.020204\n",
       "\n",
       "[500 rows x 4 columns]"
      ]
     },
     "execution_count": 15,
     "metadata": {},
     "output_type": "execute_result"
    }
   ],
   "source": [
    "from sklearn.preprocessing import StandardScaler\n",
    "scaler = StandardScaler()\n",
    "data = scaler.fit_transform(data)\n",
    "data=pd.DataFrame(data)\n",
    "data"
   ]
  },
  {
   "cell_type": "code",
   "execution_count": 16,
   "metadata": {},
   "outputs": [],
   "source": [
    "from sklearn.model_selection import train_test_split\n",
    "X_train, X_test, y_train, y_test = train_test_split(data, y, test_size=0.3, random_state=101)"
   ]
  },
  {
   "cell_type": "code",
   "execution_count": 17,
   "metadata": {},
   "outputs": [],
   "source": [
    "from sklearn.ensemble import RandomForestClassifier\n",
    "from sklearn.model_selection import GridSearchCV"
   ]
  },
  {
   "cell_type": "code",
   "execution_count": 18,
   "metadata": {},
   "outputs": [],
   "source": [
    "param_grid = {'n_estimators':[100,200,300,400,500,600,700,800,1000]}\n",
    "grid_cv = GridSearchCV(RandomForestClassifier(random_state=101),param_grid,verbose=3)"
   ]
  },
  {
   "cell_type": "code",
   "execution_count": 19,
   "metadata": {},
   "outputs": [
    {
     "name": "stdout",
     "output_type": "stream",
     "text": [
      "Fitting 5 folds for each of 9 candidates, totalling 45 fits\n",
      "[CV 1/5] END ..................n_estimators=100;, score=0.857 total time=   0.1s\n",
      "[CV 2/5] END ..................n_estimators=100;, score=0.886 total time=   0.1s\n",
      "[CV 3/5] END ..................n_estimators=100;, score=0.829 total time=   0.0s\n",
      "[CV 4/5] END ..................n_estimators=100;, score=0.786 total time=   0.0s\n",
      "[CV 5/5] END ..................n_estimators=100;, score=0.900 total time=   0.0s\n",
      "[CV 1/5] END ..................n_estimators=200;, score=0.843 total time=   0.1s\n",
      "[CV 2/5] END ..................n_estimators=200;, score=0.900 total time=   0.2s\n",
      "[CV 3/5] END ..................n_estimators=200;, score=0.843 total time=   0.1s\n",
      "[CV 4/5] END ..................n_estimators=200;, score=0.829 total time=   0.2s\n",
      "[CV 5/5] END ..................n_estimators=200;, score=0.886 total time=   0.2s\n",
      "[CV 1/5] END ..................n_estimators=300;, score=0.843 total time=   0.3s\n",
      "[CV 2/5] END ..................n_estimators=300;, score=0.900 total time=   0.4s\n",
      "[CV 3/5] END ..................n_estimators=300;, score=0.843 total time=   0.3s\n",
      "[CV 4/5] END ..................n_estimators=300;, score=0.814 total time=   0.3s\n",
      "[CV 5/5] END ..................n_estimators=300;, score=0.900 total time=   0.3s\n",
      "[CV 1/5] END ..................n_estimators=400;, score=0.843 total time=   0.4s\n",
      "[CV 2/5] END ..................n_estimators=400;, score=0.900 total time=   0.5s\n",
      "[CV 3/5] END ..................n_estimators=400;, score=0.843 total time=   0.4s\n",
      "[CV 4/5] END ..................n_estimators=400;, score=0.800 total time=   0.4s\n",
      "[CV 5/5] END ..................n_estimators=400;, score=0.886 total time=   0.4s\n",
      "[CV 1/5] END ..................n_estimators=500;, score=0.857 total time=   0.6s\n",
      "[CV 2/5] END ..................n_estimators=500;, score=0.900 total time=   0.5s\n",
      "[CV 3/5] END ..................n_estimators=500;, score=0.843 total time=   0.6s\n",
      "[CV 4/5] END ..................n_estimators=500;, score=0.786 total time=   0.5s\n",
      "[CV 5/5] END ..................n_estimators=500;, score=0.886 total time=   0.6s\n",
      "[CV 1/5] END ..................n_estimators=600;, score=0.843 total time=   0.7s\n",
      "[CV 2/5] END ..................n_estimators=600;, score=0.900 total time=   0.7s\n",
      "[CV 3/5] END ..................n_estimators=600;, score=0.843 total time=   0.7s\n",
      "[CV 4/5] END ..................n_estimators=600;, score=0.786 total time=   0.8s\n",
      "[CV 5/5] END ..................n_estimators=600;, score=0.886 total time=   0.8s\n",
      "[CV 1/5] END ..................n_estimators=700;, score=0.857 total time=   1.0s\n",
      "[CV 2/5] END ..................n_estimators=700;, score=0.900 total time=   0.8s\n",
      "[CV 3/5] END ..................n_estimators=700;, score=0.843 total time=   0.8s\n",
      "[CV 4/5] END ..................n_estimators=700;, score=0.786 total time=   0.8s\n",
      "[CV 5/5] END ..................n_estimators=700;, score=0.886 total time=   0.9s\n",
      "[CV 1/5] END ..................n_estimators=800;, score=0.857 total time=   0.9s\n",
      "[CV 2/5] END ..................n_estimators=800;, score=0.900 total time=   1.0s\n",
      "[CV 3/5] END ..................n_estimators=800;, score=0.843 total time=   0.9s\n",
      "[CV 4/5] END ..................n_estimators=800;, score=0.786 total time=   1.0s\n",
      "[CV 5/5] END ..................n_estimators=800;, score=0.886 total time=   0.9s\n",
      "[CV 1/5] END .................n_estimators=1000;, score=0.857 total time=   1.2s\n",
      "[CV 2/5] END .................n_estimators=1000;, score=0.900 total time=   1.3s\n",
      "[CV 3/5] END .................n_estimators=1000;, score=0.829 total time=   1.2s\n",
      "[CV 4/5] END .................n_estimators=1000;, score=0.800 total time=   1.1s\n",
      "[CV 5/5] END .................n_estimators=1000;, score=0.886 total time=   1.2s\n"
     ]
    },
    {
     "data": {
      "text/html": [
       "<style>#sk-container-id-1 {color: black;background-color: white;}#sk-container-id-1 pre{padding: 0;}#sk-container-id-1 div.sk-toggleable {background-color: white;}#sk-container-id-1 label.sk-toggleable__label {cursor: pointer;display: block;width: 100%;margin-bottom: 0;padding: 0.3em;box-sizing: border-box;text-align: center;}#sk-container-id-1 label.sk-toggleable__label-arrow:before {content: \"▸\";float: left;margin-right: 0.25em;color: #696969;}#sk-container-id-1 label.sk-toggleable__label-arrow:hover:before {color: black;}#sk-container-id-1 div.sk-estimator:hover label.sk-toggleable__label-arrow:before {color: black;}#sk-container-id-1 div.sk-toggleable__content {max-height: 0;max-width: 0;overflow: hidden;text-align: left;background-color: #f0f8ff;}#sk-container-id-1 div.sk-toggleable__content pre {margin: 0.2em;color: black;border-radius: 0.25em;background-color: #f0f8ff;}#sk-container-id-1 input.sk-toggleable__control:checked~div.sk-toggleable__content {max-height: 200px;max-width: 100%;overflow: auto;}#sk-container-id-1 input.sk-toggleable__control:checked~label.sk-toggleable__label-arrow:before {content: \"▾\";}#sk-container-id-1 div.sk-estimator input.sk-toggleable__control:checked~label.sk-toggleable__label {background-color: #d4ebff;}#sk-container-id-1 div.sk-label input.sk-toggleable__control:checked~label.sk-toggleable__label {background-color: #d4ebff;}#sk-container-id-1 input.sk-hidden--visually {border: 0;clip: rect(1px 1px 1px 1px);clip: rect(1px, 1px, 1px, 1px);height: 1px;margin: -1px;overflow: hidden;padding: 0;position: absolute;width: 1px;}#sk-container-id-1 div.sk-estimator {font-family: monospace;background-color: #f0f8ff;border: 1px dotted black;border-radius: 0.25em;box-sizing: border-box;margin-bottom: 0.5em;}#sk-container-id-1 div.sk-estimator:hover {background-color: #d4ebff;}#sk-container-id-1 div.sk-parallel-item::after {content: \"\";width: 100%;border-bottom: 1px solid gray;flex-grow: 1;}#sk-container-id-1 div.sk-label:hover label.sk-toggleable__label {background-color: #d4ebff;}#sk-container-id-1 div.sk-serial::before {content: \"\";position: absolute;border-left: 1px solid gray;box-sizing: border-box;top: 0;bottom: 0;left: 50%;z-index: 0;}#sk-container-id-1 div.sk-serial {display: flex;flex-direction: column;align-items: center;background-color: white;padding-right: 0.2em;padding-left: 0.2em;position: relative;}#sk-container-id-1 div.sk-item {position: relative;z-index: 1;}#sk-container-id-1 div.sk-parallel {display: flex;align-items: stretch;justify-content: center;background-color: white;position: relative;}#sk-container-id-1 div.sk-item::before, #sk-container-id-1 div.sk-parallel-item::before {content: \"\";position: absolute;border-left: 1px solid gray;box-sizing: border-box;top: 0;bottom: 0;left: 50%;z-index: -1;}#sk-container-id-1 div.sk-parallel-item {display: flex;flex-direction: column;z-index: 1;position: relative;background-color: white;}#sk-container-id-1 div.sk-parallel-item:first-child::after {align-self: flex-end;width: 50%;}#sk-container-id-1 div.sk-parallel-item:last-child::after {align-self: flex-start;width: 50%;}#sk-container-id-1 div.sk-parallel-item:only-child::after {width: 0;}#sk-container-id-1 div.sk-dashed-wrapped {border: 1px dashed gray;margin: 0 0.4em 0.5em 0.4em;box-sizing: border-box;padding-bottom: 0.4em;background-color: white;}#sk-container-id-1 div.sk-label label {font-family: monospace;font-weight: bold;display: inline-block;line-height: 1.2em;}#sk-container-id-1 div.sk-label-container {text-align: center;}#sk-container-id-1 div.sk-container {/* jupyter's `normalize.less` sets `[hidden] { display: none; }` but bootstrap.min.css set `[hidden] { display: none !important; }` so we also need the `!important` here to be able to override the default hidden behavior on the sphinx rendered scikit-learn.org. See: https://github.com/scikit-learn/scikit-learn/issues/21755 */display: inline-block !important;position: relative;}#sk-container-id-1 div.sk-text-repr-fallback {display: none;}</style><div id=\"sk-container-id-1\" class=\"sk-top-container\"><div class=\"sk-text-repr-fallback\"><pre>GridSearchCV(estimator=RandomForestClassifier(random_state=101),\n",
       "             param_grid={&#x27;n_estimators&#x27;: [100, 200, 300, 400, 500, 600, 700,\n",
       "                                          800, 1000]},\n",
       "             verbose=3)</pre><b>In a Jupyter environment, please rerun this cell to show the HTML representation or trust the notebook. <br />On GitHub, the HTML representation is unable to render, please try loading this page with nbviewer.org.</b></div><div class=\"sk-container\" hidden><div class=\"sk-item sk-dashed-wrapped\"><div class=\"sk-label-container\"><div class=\"sk-label sk-toggleable\"><input class=\"sk-toggleable__control sk-hidden--visually\" id=\"sk-estimator-id-1\" type=\"checkbox\" ><label for=\"sk-estimator-id-1\" class=\"sk-toggleable__label sk-toggleable__label-arrow\">GridSearchCV</label><div class=\"sk-toggleable__content\"><pre>GridSearchCV(estimator=RandomForestClassifier(random_state=101),\n",
       "             param_grid={&#x27;n_estimators&#x27;: [100, 200, 300, 400, 500, 600, 700,\n",
       "                                          800, 1000]},\n",
       "             verbose=3)</pre></div></div></div><div class=\"sk-parallel\"><div class=\"sk-parallel-item\"><div class=\"sk-item\"><div class=\"sk-label-container\"><div class=\"sk-label sk-toggleable\"><input class=\"sk-toggleable__control sk-hidden--visually\" id=\"sk-estimator-id-2\" type=\"checkbox\" ><label for=\"sk-estimator-id-2\" class=\"sk-toggleable__label sk-toggleable__label-arrow\">estimator: RandomForestClassifier</label><div class=\"sk-toggleable__content\"><pre>RandomForestClassifier(random_state=101)</pre></div></div></div><div class=\"sk-serial\"><div class=\"sk-item\"><div class=\"sk-estimator sk-toggleable\"><input class=\"sk-toggleable__control sk-hidden--visually\" id=\"sk-estimator-id-3\" type=\"checkbox\" ><label for=\"sk-estimator-id-3\" class=\"sk-toggleable__label sk-toggleable__label-arrow\">RandomForestClassifier</label><div class=\"sk-toggleable__content\"><pre>RandomForestClassifier(random_state=101)</pre></div></div></div></div></div></div></div></div></div></div>"
      ],
      "text/plain": [
       "GridSearchCV(estimator=RandomForestClassifier(random_state=101),\n",
       "             param_grid={'n_estimators': [100, 200, 300, 400, 500, 600, 700,\n",
       "                                          800, 1000]},\n",
       "             verbose=3)"
      ]
     },
     "execution_count": 19,
     "metadata": {},
     "output_type": "execute_result"
    }
   ],
   "source": [
    "grid_cv.fit(X_train,y_train)"
   ]
  },
  {
   "cell_type": "code",
   "execution_count": 20,
   "metadata": {},
   "outputs": [
    {
     "data": {
      "text/plain": [
       "{'n_estimators': 200}"
      ]
     },
     "execution_count": 20,
     "metadata": {},
     "output_type": "execute_result"
    }
   ],
   "source": [
    "grid_cv.best_params_"
   ]
  },
  {
   "cell_type": "code",
   "execution_count": 21,
   "metadata": {},
   "outputs": [],
   "source": [
    "pred = grid_cv.predict(X_test)"
   ]
  },
  {
   "cell_type": "code",
   "execution_count": 22,
   "metadata": {},
   "outputs": [],
   "source": [
    "def print_score(clf, X_train, y_train, X_test, y_test, train=True):\n",
    "    if train:\n",
    "        pred = clf.predict(X_train)\n",
    "        clf_report = pd.DataFrame(classification_report(y_train, pred, output_dict=True))\n",
    "        print(\"Train Result:\\n================================================\")\n",
    "        print(f\"Accuracy Score: {accuracy_score(y_train, pred) * 100:.2f}%\")\n",
    "        print(\"_______________________________________________\")\n",
    "        print(f\"CLASSIFICATION REPORT:\\n{clf_report}\")\n",
    "        print(\"_______________________________________________\")\n",
    "        print(f\"Confusion Matrix: \\n {confusion_matrix(y_train, pred)}\\n\")\n",
    "        \n",
    "    elif train==False:\n",
    "        pred = clf.predict(X_test)\n",
    "        clf_report = pd.DataFrame(classification_report(y_test, pred, output_dict=True))\n",
    "        print(\"Test Result:\\n================================================\")        \n",
    "        print(f\"Accuracy Score: {accuracy_score(y_test, pred) * 100:.2f}%\")\n",
    "        print(\"_______________________________________________\")\n",
    "        print(f\"CLASSIFICATION REPORT:\\n{clf_report}\")\n",
    "        print(\"_______________________________________________\")\n",
    "        print(f\"Confusion Matrix: \\n {confusion_matrix(y_test, pred)}\\n\")"
   ]
  },
  {
   "cell_type": "code",
   "execution_count": 23,
   "metadata": {},
   "outputs": [
    {
     "name": "stdout",
     "output_type": "stream",
     "text": [
      "Fitting 5 folds for each of 9 candidates, totalling 45 fits\n",
      "[CV 1/5] END ..................n_estimators=100;, score=0.857 total time=   0.1s\n",
      "[CV 2/5] END ..................n_estimators=100;, score=0.886 total time=   0.0s\n",
      "[CV 3/5] END ..................n_estimators=100;, score=0.829 total time=   0.1s\n",
      "[CV 4/5] END ..................n_estimators=100;, score=0.786 total time=   0.1s\n",
      "[CV 5/5] END ..................n_estimators=100;, score=0.900 total time=   0.0s\n",
      "[CV 1/5] END ..................n_estimators=200;, score=0.843 total time=   0.2s\n",
      "[CV 2/5] END ..................n_estimators=200;, score=0.900 total time=   0.3s\n",
      "[CV 3/5] END ..................n_estimators=200;, score=0.843 total time=   0.2s\n",
      "[CV 4/5] END ..................n_estimators=200;, score=0.829 total time=   0.2s\n",
      "[CV 5/5] END ..................n_estimators=200;, score=0.886 total time=   0.2s\n",
      "[CV 1/5] END ..................n_estimators=300;, score=0.843 total time=   0.4s\n",
      "[CV 2/5] END ..................n_estimators=300;, score=0.900 total time=   0.3s\n",
      "[CV 3/5] END ..................n_estimators=300;, score=0.843 total time=   0.3s\n",
      "[CV 4/5] END ..................n_estimators=300;, score=0.814 total time=   0.3s\n",
      "[CV 5/5] END ..................n_estimators=300;, score=0.900 total time=   0.3s\n",
      "[CV 1/5] END ..................n_estimators=400;, score=0.843 total time=   0.5s\n",
      "[CV 2/5] END ..................n_estimators=400;, score=0.900 total time=   0.4s\n",
      "[CV 3/5] END ..................n_estimators=400;, score=0.843 total time=   0.5s\n",
      "[CV 4/5] END ..................n_estimators=400;, score=0.800 total time=   0.5s\n",
      "[CV 5/5] END ..................n_estimators=400;, score=0.886 total time=   0.4s\n",
      "[CV 1/5] END ..................n_estimators=500;, score=0.857 total time=   0.5s\n",
      "[CV 2/5] END ..................n_estimators=500;, score=0.900 total time=   0.6s\n",
      "[CV 3/5] END ..................n_estimators=500;, score=0.843 total time=   0.6s\n",
      "[CV 4/5] END ..................n_estimators=500;, score=0.786 total time=   0.6s\n",
      "[CV 5/5] END ..................n_estimators=500;, score=0.886 total time=   0.5s\n",
      "[CV 1/5] END ..................n_estimators=600;, score=0.843 total time=   0.7s\n",
      "[CV 2/5] END ..................n_estimators=600;, score=0.900 total time=   0.8s\n",
      "[CV 3/5] END ..................n_estimators=600;, score=0.843 total time=   0.7s\n",
      "[CV 4/5] END ..................n_estimators=600;, score=0.786 total time=   0.7s\n",
      "[CV 5/5] END ..................n_estimators=600;, score=0.886 total time=   0.7s\n",
      "[CV 1/5] END ..................n_estimators=700;, score=0.857 total time=   0.9s\n",
      "[CV 2/5] END ..................n_estimators=700;, score=0.900 total time=   1.0s\n",
      "[CV 3/5] END ..................n_estimators=700;, score=0.843 total time=   0.8s\n",
      "[CV 4/5] END ..................n_estimators=700;, score=0.786 total time=   0.8s\n",
      "[CV 5/5] END ..................n_estimators=700;, score=0.886 total time=   0.8s\n",
      "[CV 1/5] END ..................n_estimators=800;, score=0.857 total time=   1.0s\n",
      "[CV 2/5] END ..................n_estimators=800;, score=0.900 total time=   1.0s\n",
      "[CV 3/5] END ..................n_estimators=800;, score=0.843 total time=   1.0s\n",
      "[CV 4/5] END ..................n_estimators=800;, score=0.786 total time=   0.8s\n",
      "[CV 5/5] END ..................n_estimators=800;, score=0.886 total time=   0.9s\n",
      "[CV 1/5] END .................n_estimators=1000;, score=0.857 total time=   1.3s\n",
      "[CV 2/5] END .................n_estimators=1000;, score=0.900 total time=   1.2s\n",
      "[CV 3/5] END .................n_estimators=1000;, score=0.829 total time=   1.2s\n",
      "[CV 4/5] END .................n_estimators=1000;, score=0.800 total time=   1.2s\n",
      "[CV 5/5] END .................n_estimators=1000;, score=0.886 total time=   1.2s\n",
      "Train Result:\n",
      "================================================\n",
      "Accuracy Score: 100.00%\n",
      "_______________________________________________\n",
      "CLASSIFICATION REPORT:\n",
      "           Extremely Obese  Extremely Weak  Normal  Obesity  OverWeight  Weak  \\\n",
      "precision              1.0             1.0     1.0      1.0         1.0   1.0   \n",
      "recall                 1.0             1.0     1.0      1.0         1.0   1.0   \n",
      "f1-score               1.0             1.0     1.0      1.0         1.0   1.0   \n",
      "support              135.0            12.0    46.0     92.0        49.0  16.0   \n",
      "\n",
      "           accuracy  macro avg  weighted avg  \n",
      "precision       1.0        1.0           1.0  \n",
      "recall          1.0        1.0           1.0  \n",
      "f1-score        1.0        1.0           1.0  \n",
      "support         1.0      350.0         350.0  \n",
      "_______________________________________________\n",
      "Confusion Matrix: \n",
      " [[135   0   0   0   0   0]\n",
      " [  0  12   0   0   0   0]\n",
      " [  0   0  46   0   0   0]\n",
      " [  0   0   0  92   0   0]\n",
      " [  0   0   0   0  49   0]\n",
      " [  0   0   0   0   0  16]]\n",
      "\n",
      "Test Result:\n",
      "================================================\n",
      "Accuracy Score: 87.33%\n",
      "_______________________________________________\n",
      "CLASSIFICATION REPORT:\n",
      "           Extremely Obese  Extremely Weak     Normal    Obesity  OverWeight  \\\n",
      "precision         0.910448             1.0   0.916667   0.775000    0.916667   \n",
      "recall            0.968254             1.0   0.956522   0.815789    0.578947   \n",
      "f1-score          0.938462             1.0   0.936170   0.794872    0.709677   \n",
      "support          63.000000             1.0  23.000000  38.000000   19.000000   \n",
      "\n",
      "               Weak  accuracy   macro avg  weighted avg  \n",
      "precision  0.833333  0.873333    0.892019      0.875388  \n",
      "recall     0.833333  0.873333    0.858808      0.873333  \n",
      "f1-score   0.833333  0.873333    0.868752      0.868960  \n",
      "support    6.000000  0.873333  150.000000    150.000000  \n",
      "_______________________________________________\n",
      "Confusion Matrix: \n",
      " [[61  0  0  2  0  0]\n",
      " [ 0  1  0  0  0  0]\n",
      " [ 0  0 22  0  0  1]\n",
      " [ 6  0  0 31  1  0]\n",
      " [ 0  0  1  7 11  0]\n",
      " [ 0  0  1  0  0  5]]\n",
      "\n"
     ]
    }
   ],
   "source": [
    "grid_cv.fit(X_train, y_train)\n",
    "\n",
    "print_score(grid_cv, X_train, y_train, X_test, y_test, train=True)\n",
    "print_score(grid_cv, X_train, y_train, X_test, y_test, train=False)"
   ]
  },
  {
   "cell_type": "code",
   "execution_count": 24,
   "metadata": {},
   "outputs": [
    {
     "name": "stdout",
     "output_type": "stream",
     "text": [
      "                 precision    recall  f1-score   support\n",
      "\n",
      "Extremely Obese       0.91      0.97      0.94        63\n",
      " Extremely Weak       1.00      1.00      1.00         1\n",
      "         Normal       0.92      0.96      0.94        23\n",
      "        Obesity       0.78      0.82      0.79        38\n",
      "     OverWeight       0.92      0.58      0.71        19\n",
      "           Weak       0.83      0.83      0.83         6\n",
      "\n",
      "       accuracy                           0.87       150\n",
      "      macro avg       0.89      0.86      0.87       150\n",
      "   weighted avg       0.88      0.87      0.87       150\n",
      "\n",
      "\n",
      "\n",
      "[[61  0  0  2  0  0]\n",
      " [ 0  1  0  0  0  0]\n",
      " [ 0  0 22  0  0  1]\n",
      " [ 6  0  0 31  1  0]\n",
      " [ 0  0  1  7 11  0]\n",
      " [ 0  0  1  0  0  5]]\n",
      "\n",
      "\n",
      "Acuuracy is -->  87.33333333333333\n",
      "\n",
      "\n"
     ]
    }
   ],
   "source": [
    "from sklearn.metrics import classification_report, confusion_matrix, accuracy_score\n",
    "print(classification_report(y_test,pred))\n",
    "print('\\n')\n",
    "print(confusion_matrix(y_test,pred))\n",
    "print('\\n')\n",
    "print('Acuuracy is --> ',accuracy_score(y_test,pred)*100)\n",
    "print('\\n')"
   ]
  },
  {
   "cell_type": "code",
   "execution_count": 25,
   "metadata": {},
   "outputs": [],
   "source": [
    "def lp(details):\n",
    "    gender = details[0]\n",
    "    height = details[1]\n",
    "    weight = details[2]\n",
    "    \n",
    "    if gender=='Male':\n",
    "        details=np.array([[np.float(height),np.float(weight),0.0,1.0]])\n",
    "    elif gender=='Female':\n",
    "        details=np.array([[np.float(height),np.float(weight),1.0,0.0]])\n",
    "    \n",
    "    y_pred = grid_cv.predict(scaler.transform(details))\n",
    "    return (y_pred[0])\n",
    "    "
   ]
  },
  {
   "cell_type": "code",
   "execution_count": 26,
   "metadata": {},
   "outputs": [
    {
     "name": "stdout",
     "output_type": "stream",
     "text": [
      "OverWeight\n"
     ]
    }
   ],
   "source": [
    "#Live predictor\n",
    "\n",
    "your_details = ['Male',175,80]\n",
    "print(lp(your_details))"
   ]
  },
  {
   "cell_type": "code",
   "execution_count": null,
   "metadata": {},
   "outputs": [],
   "source": []
  }
 ],
 "metadata": {
  "interpreter": {
   "hash": "80bc14a6df0c4942103d0618f3b06907407c921bdce606ff519c2e4f7269e47f"
  },
  "kernelspec": {
   "display_name": "Python 3.9.7 ('base')",
   "language": "python",
   "name": "python3"
  },
  "language_info": {
   "codemirror_mode": {
    "name": "ipython",
    "version": 3
   },
   "file_extension": ".py",
   "mimetype": "text/x-python",
   "name": "python",
   "nbconvert_exporter": "python",
   "pygments_lexer": "ipython3",
   "version": "3.9.7"
  }
 },
 "nbformat": 4,
 "nbformat_minor": 2
}
